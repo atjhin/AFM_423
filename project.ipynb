{
 "cells": [
  {
   "cell_type": "code",
   "execution_count": 2,
   "metadata": {},
   "outputs": [],
   "source": [
    "import pandas as pd\n",
    "import numpy as np\n",
    "from datetime import timedelta\n",
    "import matplotlib.pyplot as plt\n",
    "import warnings\n",
    "warnings.filterwarnings('ignore')"
   ]
  },
  {
   "cell_type": "code",
   "execution_count": 1,
   "metadata": {},
   "outputs": [
    {
     "data": {
      "text/plain": [
       "(283380, 99)"
      ]
     },
     "execution_count": 1,
     "metadata": {},
     "output_type": "execute_result"
    }
   ],
   "source": [
    "import pyreadr\n",
    "data_ml = pyreadr.read_r(\"data/data_ml.Rdata\")\n",
    "data_ml = data_ml['data_ml']\n",
    "data_ml.shape"
   ]
  },
  {
   "cell_type": "code",
   "execution_count": 4,
   "metadata": {},
   "outputs": [],
   "source": [
    "# Keep the feature's column names (hard-coded, beware!)\n",
    "features = data_ml.columns[2:94]  \n",
    "max_n_stocks = data_ml[\"stock_id\"].value_counts().max()\n",
    "data_ml = data_ml.loc[data_ml.groupby(\"stock_id\").date.transform(\"count\") == max_n_stocks]\n",
    "data_ml = data_ml.loc[data_ml['date'] >= pd.Timestamp(\"2005-01-01\")]\n",
    "data_ml['date'] = pd.to_datetime(data_ml['date'])\n",
    "# Starting point for backtest\n",
    "sep_oos = pd.to_datetime(\"2010-01-01\")\n",
    "\n",
    "ticks = data_ml['stock_id'].astype('category').cat.categories.tolist()\n",
    "ticks_df = pd.DataFrame({\"stock_id\":ticks}).reset_index()\n",
    "\n",
    "N = len(ticks)\n",
    "\n",
    "t_oos = data_ml.loc[data_ml['date'] > sep_oos, 'date'].unique()\n",
    "t_oos = pd.to_datetime(t_oos).sort_values()\n",
    "\n",
    "nb_port = 3"
   ]
  },
  {
   "cell_type": "code",
   "execution_count": 5,
   "metadata": {},
   "outputs": [],
   "source": [
    "import xgboost as xgb\n",
    "from sklearn.linear_model import Lasso\n",
    "def get_equal_weights(test_data, weights=None):\n",
    "    weights = np.ones(len(test_data), dtype=int) if weights is None else weights\n",
    "    return pd.DataFrame({\"stock_id\":test_data['stock_id'], \"weights\":weights/weights.sum()})\n",
    "\n",
    "def get_xgb_weights(train_data, test_data, features):\n",
    "    X_train = train_data[features]\n",
    "    y_train = train_data[\"R12M_Usd\"] / np.exp(train_data[\"Vol1Y_Usd\"])\n",
    "    X_test = test_data[features]\n",
    "    ind = (y_train > np.quantile(y_train, 0.2)) & (y_train < np.quantile(y_train, 0.8))\n",
    "    X_train = X_train.loc[ind,]\n",
    "    y_train = y_train.loc[ind]\n",
    "    \n",
    "    # Initialize model\n",
    "    params = {\n",
    "        \"eta\": 0.3,                      \n",
    "        \"objective\": \"reg:squarederror\", \n",
    "        \"max_depth\": 4,          \n",
    "        \"n_estimators\": 80,\n",
    "        \"subsample\":0.5,\n",
    "        \"eval_metric\":\"rmse\",\n",
    "        \"random_state\":2025\n",
    "    }\n",
    "    xgb_r = xgb.XGBRegressor(**params) \n",
    "    \n",
    "    # Fitting the model \n",
    "    \n",
    "    xgb_r.fit(X_train, y_train) \n",
    "    \n",
    "    # Predict the model \n",
    "    pred = xgb_r.predict(X_test) \n",
    "    weights = pred > np.median(pred)\n",
    "    return get_equal_weights(test_data, weights)\n",
    "\n",
    "\n",
    "def get_lr_weights(train_data, test_data, features):\n",
    "    # print(train_data)\n",
    "    X_train = train_data[features]\n",
    "    y_train = train_data[\"R12M_Usd\"] / np.exp(train_data[\"Vol1Y_Usd\"])\n",
    "    X_test = test_data[features]\n",
    "    ind = (y_train > np.quantile(y_train, 0.2)) & (y_train < np.quantile(y_train, 0.8))\n",
    "    X_train = X_train.loc[ind,]\n",
    "    y_train = y_train.loc[ind]\n",
    "    lasso_reg = Lasso(alpha=0.001, max_iter=1000)\n",
    "    lasso_reg.fit(X_train, y_train)\n",
    "    pred = lasso_reg.predict(X_test)\n",
    "    weights = pred > np.median(pred)\n",
    "    return get_equal_weights(test_data, weights)\n",
    "\n"
   ]
  },
  {
   "cell_type": "code",
   "execution_count": 6,
   "metadata": {},
   "outputs": [],
   "source": [
    "## Backtesting function\n",
    "m_offset = 12                                          # Offset in months for buffer period\n",
    "train_size = 5                                         # Size of training set in years\n",
    "\n",
    "def backtest(t_oos, data_ml):\n",
    "    portf_weights = np.zeros((len(t_oos), nb_port, N))\n",
    "    portf_returns = np.zeros((len(t_oos), nb_port))\n",
    "    for t, curr_t in enumerate(t_oos):\n",
    "        # if t > 36:\n",
    "        #     break\n",
    "        if t % 12 == 0:\n",
    "            print(curr_t)\n",
    "        train_data = data_ml[(data_ml['date'] < curr_t - pd.Timedelta(days=m_offset * 30)) &  \\\n",
    "                             (data_ml['date'] > curr_t - pd.Timedelta(days=m_offset * 30 + 365 * train_size))].reset_index(drop=True)\n",
    "        test_data = data_ml[data_ml['date'] == curr_t].reset_index(drop=True)\n",
    "        realized_returns = test_data['R1M_Usd']\n",
    "        # print(test_data)\n",
    "        for i in range(nb_port):\n",
    "            if i == 0:\n",
    "                temp_weights = get_equal_weights(test_data)\n",
    "            elif i == 1:\n",
    "                temp_weights = get_lr_weights(train_data, test_data, features)\n",
    "            elif i == 2:\n",
    "                temp_weights = get_xgb_weights(train_data, test_data, features)\n",
    "            else:\n",
    "                raise ValueError(f\"Invalid number for nb_port: {nb_port}. Please enter a value from 1 to 3\")\n",
    "            ind = temp_weights.merge(ticks_df, how=\"left\", on=\"stock_id\").index.tolist()\n",
    "            portf_weights[t,i,ind] = temp_weights[\"weights\"]\n",
    "            portf_returns[t,i] = np.multiply(temp_weights['weights'], realized_returns).sum()\n",
    "    return portf_weights, portf_returns\n",
    "        "
   ]
  },
  {
   "cell_type": "code",
   "execution_count": 7,
   "metadata": {},
   "outputs": [
    {
     "name": "stdout",
     "output_type": "stream",
     "text": [
      "2010-01-31 00:00:00\n",
      "2011-01-31 00:00:00\n",
      "2012-01-31 00:00:00\n",
      "2013-01-31 00:00:00\n",
      "2014-01-31 00:00:00\n",
      "2015-01-31 00:00:00\n",
      "2016-01-31 00:00:00\n",
      "2017-01-31 00:00:00\n",
      "2018-01-31 00:00:00\n",
      "2019-01-31 00:00:00\n"
     ]
    }
   ],
   "source": [
    "portf_weights, portf_returns = backtest(t_oos, data_ml)"
   ]
  },
  {
   "cell_type": "code",
   "execution_count": 8,
   "metadata": {},
   "outputs": [],
   "source": [
    "def get_turnover(weights, asset_returns, t_oos):\n",
    "    \"\"\"\n",
    "    weights: shape (t, nb_port, N)\n",
    "    asset_returns: shape (t, N)\n",
    "    \"\"\"\n",
    "    # Pre-allocate turnover\n",
    "    turnover = []  # nb_port\n",
    "\n",
    "    for t in range(1, weights.shape[0]):  # for each portfolio\n",
    "        # Calculate pre-rebalance weights (after returns)\n",
    "        curr_return = asset_returns.loc[asset_returns['date']==t_oos[t], ['stock_id', 'R1M_Usd']]\n",
    "        curr_return = ticks_df.merge(curr_return, how=\"left\", on=\"stock_id\")['R1M_Usd']\n",
    "        prior_w = weights[t-1,:] * (1 + curr_return)  \n",
    "        prior_w = prior_w / prior_w.sum()\n",
    "\n",
    "        # Calculate turnover\n",
    "        curr_turn = np.sum(np.abs(weights[t,:] - prior_w))  \n",
    "        turnover.append(curr_turn)\n",
    "\n",
    "    return np.mean(turnover)"
   ]
  },
  {
   "cell_type": "code",
   "execution_count": 9,
   "metadata": {},
   "outputs": [],
   "source": [
    "def stationary_bootstrap(array, num, prob):\n",
    "    N = len(array)\n",
    "    result = []\n",
    "    curr_ind = np.random.randint(0, N)\n",
    "    while num > 0:\n",
    "        result.append(array[curr_ind])\n",
    "        select_next = np.random.choice([True, False], p=[1-prob, prob])\n",
    "        if select_next:\n",
    "            curr_ind = (curr_ind + 1) % N\n",
    "        else:\n",
    "            curr_ind = np.random.randint(0, N)\n",
    "        num -= 1\n",
    "    return result\n",
    "        \n",
    "def get_bootstrap(returns, t, prob, N):\n",
    "    initial_val = 1000\n",
    "    portfolio_val = []\n",
    "    for i in range(N):\n",
    "        bootstrap_returns = stationary_bootstrap(returns, t*12, prob)\n",
    "        portfolio_val.append(initial_val * np.prod(1+np.array(bootstrap_returns)))\n",
    "    return portfolio_val\n",
    "\n",
    "\n",
    "def plot_portf_cdf(portfolio_vals, strat_name, t):\n",
    "    plt.figure(figsize=(8, 5))\n",
    "    for name, vals in zip(strat_name, portfolio_vals):\n",
    "        sorted_values = np.sort(vals)\n",
    "        cdf = np.arange(1, len(sorted_values) + 1) / len(sorted_values)\n",
    "        plt.plot(sorted_values, cdf, marker='.', linestyle='none', label=name)\n",
    "    plt.xlabel('Terminal Portfolio Value')\n",
    "    plt.ylabel('CDF')\n",
    "    plt.title(f'Empirical CDF of Terminal Portfolio Values ({t}-Year Horizon)')\n",
    "    plt.legend()\n",
    "    plt.show()"
   ]
  },
  {
   "cell_type": "code",
   "execution_count": 14,
   "metadata": {},
   "outputs": [
    {
     "data": {
      "image/png": "[encoded data removed]",
      "text/plain": [
       "<Figure size 576x360 with 1 Axes>"
      ]
     },
     "metadata": {
      "needs_background": "light"
     },
     "output_type": "display_data"
    }
   ],
   "source": [
    "def perf_met_multi(portf_returns, weights, asset_returns, t_oos, strat_name):\n",
    "    t=10 # Number of years for bootstrap\n",
    "    metrics_df = pd.DataFrame()\n",
    "    bootstrap_portf_vals = []\n",
    "    for j in range(weights.shape[1]):\n",
    "        turnover = get_turnover(portf_weights[:,j,:], asset_returns, t_oos)\n",
    "        curr_bootstrap = get_bootstrap(portf_returns[:,j], t, 0.1, 100)\n",
    "        curr_mean = np.mean(curr_bootstrap)\n",
    "        curr_std = np.std(curr_bootstrap)\n",
    "        bootstrap_portf_vals.append(curr_bootstrap)\n",
    "        metrics_df = pd.concat([metrics_df, pd.DataFrame({\"strat\":[strat_name[j]], \n",
    "                                                          \"turnover\":[turnover],\n",
    "                                                          \"mean\":[np.mean(portf_returns[:,j])],\n",
    "                                                          \"std\":[np.std(portf_returns[:,j])], \n",
    "                                                          \"sharpe\":[np.mean(portf_returns[:,j])/np.std(portf_returns[:,j])],\n",
    "                                                          \"bt_mean\":[curr_mean],\n",
    "                                                          \"bt_std\":[curr_std],\n",
    "                                                          \"bt_sharpe\":[curr_mean/curr_std]})], axis=0)\n",
    "    plot_portf_cdf(bootstrap_portf_vals, strat_name, t)\n",
    "    return metrics_df\n",
    "\n",
    "metrics_df = perf_met_multi(portf_returns, portf_weights, data_ml, t_oos, ['EW', \"LR\", \"XGB\"])"
   ]
  },
  {
   "cell_type": "code",
   "execution_count": 15,
   "metadata": {},
   "outputs": [
    {
     "data": {
      "text/html": [
       "<div>\n",
       "<style scoped>\n",
       "    .dataframe tbody tr th:only-of-type {\n",
       "        vertical-align: middle;\n",
       "    }\n",
       "\n",
       "    .dataframe tbody tr th {\n",
       "        vertical-align: top;\n",
       "    }\n",
       "\n",
       "    .dataframe thead th {\n",
       "        text-align: right;\n",
       "    }\n",
       "</style>\n",
       "<table border=\"1\" class=\"dataframe\">\n",
       "  <thead>\n",
       "    <tr style=\"text-align: right;\">\n",
       "      <th></th>\n",
       "      <th>strat</th>\n",
       "      <th>turnover</th>\n",
       "      <th>mean</th>\n",
       "      <th>std</th>\n",
       "      <th>sharpe</th>\n",
       "      <th>bt_mean</th>\n",
       "      <th>bt_std</th>\n",
       "      <th>bt_sharpe</th>\n",
       "    </tr>\n",
       "  </thead>\n",
       "  <tbody>\n",
       "    <tr>\n",
       "      <th>0</th>\n",
       "      <td>EW</td>\n",
       "      <td>0.055548</td>\n",
       "      <td>0.012391</td>\n",
       "      <td>0.048187</td>\n",
       "      <td>0.257133</td>\n",
       "      <td>3904.006946</td>\n",
       "      <td>1314.640735</td>\n",
       "      <td>2.969638</td>\n",
       "    </tr>\n",
       "    <tr>\n",
       "      <th>0</th>\n",
       "      <td>LR</td>\n",
       "      <td>0.451737</td>\n",
       "      <td>0.011604</td>\n",
       "      <td>0.046160</td>\n",
       "      <td>0.251391</td>\n",
       "      <td>3495.420225</td>\n",
       "      <td>958.169489</td>\n",
       "      <td>3.648019</td>\n",
       "    </tr>\n",
       "    <tr>\n",
       "      <th>0</th>\n",
       "      <td>XGB</td>\n",
       "      <td>0.827209</td>\n",
       "      <td>0.011594</td>\n",
       "      <td>0.047621</td>\n",
       "      <td>0.243460</td>\n",
       "      <td>3606.394013</td>\n",
       "      <td>1282.126763</td>\n",
       "      <td>2.812822</td>\n",
       "    </tr>\n",
       "  </tbody>\n",
       "</table>\n",
       "</div>"
      ],
      "text/plain": [
       "  strat  turnover      mean       std    sharpe      bt_mean       bt_std  \\\n",
       "0    EW  0.055548  0.012391  0.048187  0.257133  3904.006946  1314.640735   \n",
       "0    LR  0.451737  0.011604  0.046160  0.251391  3495.420225   958.169489   \n",
       "0   XGB  0.827209  0.011594  0.047621  0.243460  3606.394013  1282.126763   \n",
       "\n",
       "   bt_sharpe  \n",
       "0   2.969638  \n",
       "0   3.648019  \n",
       "0   2.812822  "
      ]
     },
     "execution_count": 15,
     "metadata": {},
     "output_type": "execute_result"
    }
   ],
   "source": [
    "metrics_df"
   ]
  },
  {
   "cell_type": "code",
   "execution_count": 131,
   "metadata": {},
   "outputs": [
    {
     "data": {
      "image/png": "[encoded data removed]",
      "text/plain": [
       "<Figure size 576x360 with 1 Axes>"
      ]
     },
     "metadata": {
      "needs_background": "light"
     },
     "output_type": "display_data"
    }
   ],
   "source": [
    "plot_portf_cdf([test], ['LR'])"
   ]
  },
  {
   "cell_type": "code",
   "execution_count": 16,
   "metadata": {},
   "outputs": [
    {
     "data": {
      "text/plain": [
       "[26, 27, 28, 29, 0, 1, 2, 3, 4, 5, 6, 29, 2, 3, 4, 5, 6, 7, 8, 9]"
      ]
     },
     "execution_count": 16,
     "metadata": {},
     "output_type": "execute_result"
    }
   ],
   "source": [
    "import numpy as np\n",
    "arr = list(range(30))\n",
    "stationary_bootstrap(arr, 20, 0.2)"
   ]
  },
  {
   "cell_type": "code",
   "execution_count": 10,
   "metadata": {},
   "outputs": [
    {
     "data": {
      "text/plain": [
       "5.0"
      ]
     },
     "execution_count": 10,
     "metadata": {},
     "output_type": "execute_result"
    }
   ],
   "source": [
    "1/0.2"
   ]
  },
  {
   "cell_type": "code",
   "execution_count": 30,
   "metadata": {},
   "outputs": [
    {
     "data": {
      "text/plain": [
       "Lasso(alpha=0.0001)"
      ]
     },
     "execution_count": 30,
     "metadata": {},
     "output_type": "execute_result"
    }
   ],
   "source": [
    "from sklearn.linear_model import Lasso\n",
    "lasso_reg = Lasso(alpha=0.0001)\n",
    "lasso_reg.fit(data_ml[features], data_ml[\"R1M_Usd\"])"
   ]
  },
  {
   "cell_type": "code",
   "execution_count": 32,
   "metadata": {},
   "outputs": [
    {
     "data": {
      "text/plain": [
       "37"
      ]
     },
     "execution_count": 32,
     "metadata": {},
     "output_type": "execute_result"
    }
   ],
   "source": [
    "(lasso_reg.coef_ != 0).sum()"
   ]
  },
  {
   "cell_type": "code",
   "execution_count": 44,
   "metadata": {},
   "outputs": [
    {
     "data": {
      "text/plain": [
       "XGBRegressor(base_score=None, booster=None, callbacks=None,\n",
       "             colsample_bylevel=None, colsample_bynode=None,\n",
       "             colsample_bytree=None, device=None, early_stopping_rounds=None,\n",
       "             enable_categorical=False, eta=0.3, eval_metric='rmse',\n",
       "             feature_types=None, gamma=None, grow_policy=None,\n",
       "             importance_type=None, interaction_constraints=None,\n",
       "             learning_rate=None, max_bin=None, max_cat_threshold=None,\n",
       "             max_cat_to_onehot=None, max_delta_step=None, max_depth=4,\n",
       "             max_leaves=None, min_child_weight=None, missing=nan,\n",
       "             monotone_constraints=None, multi_strategy=None, n_estimators=80,\n",
       "             n_jobs=None, num_parallel_tree=None, ...)"
      ]
     },
     "execution_count": 44,
     "metadata": {},
     "output_type": "execute_result"
    }
   ],
   "source": [
    "import xgboost as xgb\n",
    "params = {\n",
    "        \"eta\": 0.3,                      \n",
    "        \"objective\": \"reg:squarederror\", \n",
    "        \"max_depth\": 4,          \n",
    "        \"n_estimators\": 80,\n",
    "        \"eval_metric\":\"rmse\",\n",
    "        \"random_state\":2025\n",
    "    }\n",
    "xgb_r = xgb.XGBRegressor(**params) \n",
    "\n",
    "# Fitting the model \n",
    "\n",
    "xgb_r.fit(\n",
    "    data_ml[features], \n",
    "    data_ml[\"R1M_Usd\"])"
   ]
  },
  {
   "cell_type": "code",
   "execution_count": 45,
   "metadata": {},
   "outputs": [
    {
     "data": {
      "text/plain": [
       "92"
      ]
     },
     "execution_count": 45,
     "metadata": {},
     "output_type": "execute_result"
    }
   ],
   "source": [
    "len(features)"
   ]
  },
  {
   "cell_type": "code",
   "execution_count": 183,
   "metadata": {},
   "outputs": [
    {
     "data": {
      "text/plain": [
       "OrderedDict([('rmse',\n",
       "              [0.170902403194844,\n",
       "               0.16644979111743527,\n",
       "               0.16340285345940453,\n",
       "               0.1597972287561289,\n",
       "               0.15783412755926526,\n",
       "               0.15548904283629061,\n",
       "               0.15454407753482585,\n",
       "               0.15346650875529097,\n",
       "               0.15284938707011952,\n",
       "               0.15241796573182131,\n",
       "               0.15218571978012704,\n",
       "               0.15068534204783157,\n",
       "               0.15035509133822558,\n",
       "               0.14971495193963488,\n",
       "               0.1489933609730812,\n",
       "               0.14818767762871934,\n",
       "               0.14652915689528662,\n",
       "               0.146233000147902,\n",
       "               0.14595135680109914,\n",
       "               0.14585453096500797,\n",
       "               0.14576012465701377,\n",
       "               0.1455649728690419,\n",
       "               0.14550201518514239,\n",
       "               0.14518298002455723,\n",
       "               0.14471100773928008,\n",
       "               0.14458868039034717,\n",
       "               0.1441574111340092,\n",
       "               0.1437043192676915,\n",
       "               0.14344600742275543,\n",
       "               0.14294255447711393,\n",
       "               0.1428571753378505,\n",
       "               0.14237591392952978,\n",
       "               0.14172575655458175,\n",
       "               0.1416033650088486,\n",
       "               0.14146051661556217,\n",
       "               0.14129931221118278,\n",
       "               0.14102942433335794,\n",
       "               0.14065744530818342,\n",
       "               0.1404522834367724,\n",
       "               0.1404076206389468,\n",
       "               0.14035781830168084,\n",
       "               0.14005795882747993,\n",
       "               0.13990586651744327,\n",
       "               0.13970647862609298,\n",
       "               0.13962099023998353,\n",
       "               0.13933145928037177,\n",
       "               0.13924930462246543,\n",
       "               0.1382618079002826,\n",
       "               0.13819470993357166,\n",
       "               0.13785632053213515,\n",
       "               0.13779431364642994,\n",
       "               0.1377209101187878,\n",
       "               0.137371869988445,\n",
       "               0.13718776603711372,\n",
       "               0.13713858463396242,\n",
       "               0.13681452238862785,\n",
       "               0.13675180691568198,\n",
       "               0.13666780183912117,\n",
       "               0.13574003342806784,\n",
       "               0.13565692113057798,\n",
       "               0.13550775888255923,\n",
       "               0.13512862557783095,\n",
       "               0.13491712739214023,\n",
       "               0.1347341961402695,\n",
       "               0.13457072830849495,\n",
       "               0.134440299077444,\n",
       "               0.13432759072268313,\n",
       "               0.13419820506838157,\n",
       "               0.13416278835174808,\n",
       "               0.13412589582915682,\n",
       "               0.13407145223299594,\n",
       "               0.13383246287736672,\n",
       "               0.1337450520991496,\n",
       "               0.13369742273585478,\n",
       "               0.13361876956924842,\n",
       "               0.1334480402516927,\n",
       "               0.13339722973392576,\n",
       "               0.1332775682361329,\n",
       "               0.1321195503325328,\n",
       "               0.1319827979621789])])"
      ]
     },
     "execution_count": 183,
     "metadata": {},
     "output_type": "execute_result"
    }
   ],
   "source": [
    "xgb_r.evals_result()['validation_0']"
   ]
  },
  {
   "cell_type": "code",
   "execution_count": 159,
   "metadata": {},
   "outputs": [
    {
     "name": "stderr",
     "output_type": "stream",
     "text": [
      "/Users/alexandermichaeltjhin/opt/anaconda3/lib/python3.9/site-packages/sklearn/linear_model/_coordinate_descent.py:633: ConvergenceWarning: Objective did not converge. You might want to increase the number of iterations. Duality gap: 0.8094065741379382, tolerance: 0.5821757173000007\n",
      "  model = cd_fast.enet_coordinate_descent_gram(\n",
      "/Users/alexandermichaeltjhin/opt/anaconda3/lib/python3.9/site-packages/sklearn/linear_model/_coordinate_descent.py:633: ConvergenceWarning: Objective did not converge. You might want to increase the number of iterations. Duality gap: 1.47432988591936, tolerance: 0.5821757173000007\n",
      "  model = cd_fast.enet_coordinate_descent_gram(\n",
      "/Users/alexandermichaeltjhin/opt/anaconda3/lib/python3.9/site-packages/sklearn/linear_model/_coordinate_descent.py:633: ConvergenceWarning: Objective did not converge. You might want to increase the number of iterations. Duality gap: 1.5090414146852709, tolerance: 0.5821757173000007\n",
      "  model = cd_fast.enet_coordinate_descent_gram(\n",
      "/Users/alexandermichaeltjhin/opt/anaconda3/lib/python3.9/site-packages/sklearn/linear_model/_coordinate_descent.py:633: ConvergenceWarning: Objective did not converge. You might want to increase the number of iterations. Duality gap: 1.8517715573443638, tolerance: 0.5821757173000007\n",
      "  model = cd_fast.enet_coordinate_descent_gram(\n",
      "/Users/alexandermichaeltjhin/opt/anaconda3/lib/python3.9/site-packages/sklearn/linear_model/_coordinate_descent.py:633: ConvergenceWarning: Objective did not converge. You might want to increase the number of iterations. Duality gap: 1.8579299717421236, tolerance: 0.5821757173000007\n",
      "  model = cd_fast.enet_coordinate_descent_gram(\n",
      "/Users/alexandermichaeltjhin/opt/anaconda3/lib/python3.9/site-packages/sklearn/linear_model/_coordinate_descent.py:633: ConvergenceWarning: Objective did not converge. You might want to increase the number of iterations. Duality gap: 1.4457425963928472, tolerance: 0.5821757173000007\n",
      "  model = cd_fast.enet_coordinate_descent_gram(\n",
      "/Users/alexandermichaeltjhin/opt/anaconda3/lib/python3.9/site-packages/sklearn/linear_model/_coordinate_descent.py:633: ConvergenceWarning: Objective did not converge. You might want to increase the number of iterations. Duality gap: 1.289431542290913, tolerance: 0.5821757173000007\n",
      "  model = cd_fast.enet_coordinate_descent_gram(\n",
      "/Users/alexandermichaeltjhin/opt/anaconda3/lib/python3.9/site-packages/sklearn/linear_model/_coordinate_descent.py:633: ConvergenceWarning: Objective did not converge. You might want to increase the number of iterations. Duality gap: 1.2111220209435487, tolerance: 0.5821757173000007\n",
      "  model = cd_fast.enet_coordinate_descent_gram(\n",
      "/Users/alexandermichaeltjhin/opt/anaconda3/lib/python3.9/site-packages/sklearn/linear_model/_coordinate_descent.py:633: ConvergenceWarning: Objective did not converge. You might want to increase the number of iterations. Duality gap: 1.2006288591146586, tolerance: 0.5821757173000007\n",
      "  model = cd_fast.enet_coordinate_descent_gram(\n",
      "/Users/alexandermichaeltjhin/opt/anaconda3/lib/python3.9/site-packages/sklearn/linear_model/_coordinate_descent.py:633: ConvergenceWarning: Objective did not converge. You might want to increase the number of iterations. Duality gap: 1.2127069190373732, tolerance: 0.5821757173000007\n",
      "  model = cd_fast.enet_coordinate_descent_gram(\n",
      "/Users/alexandermichaeltjhin/opt/anaconda3/lib/python3.9/site-packages/sklearn/linear_model/_coordinate_descent.py:633: ConvergenceWarning: Objective did not converge. You might want to increase the number of iterations. Duality gap: 1.213678975226685, tolerance: 0.5821757173000007\n",
      "  model = cd_fast.enet_coordinate_descent_gram(\n",
      "/Users/alexandermichaeltjhin/opt/anaconda3/lib/python3.9/site-packages/sklearn/linear_model/_coordinate_descent.py:633: ConvergenceWarning: Objective did not converge. You might want to increase the number of iterations. Duality gap: 1.2012395649171594, tolerance: 0.5821757173000007\n",
      "  model = cd_fast.enet_coordinate_descent_gram(\n",
      "/Users/alexandermichaeltjhin/opt/anaconda3/lib/python3.9/site-packages/sklearn/linear_model/_coordinate_descent.py:633: ConvergenceWarning: Objective did not converge. You might want to increase the number of iterations. Duality gap: 1.0640532961542704, tolerance: 0.5821757173000007\n",
      "  model = cd_fast.enet_coordinate_descent_gram(\n",
      "/Users/alexandermichaeltjhin/opt/anaconda3/lib/python3.9/site-packages/sklearn/linear_model/_coordinate_descent.py:633: ConvergenceWarning: Objective did not converge. You might want to increase the number of iterations. Duality gap: 3.566145768832939, tolerance: 0.5821757173000007\n",
      "  model = cd_fast.enet_coordinate_descent_gram(\n",
      "/Users/alexandermichaeltjhin/opt/anaconda3/lib/python3.9/site-packages/sklearn/linear_model/_coordinate_descent.py:633: ConvergenceWarning: Objective did not converge. You might want to increase the number of iterations. Duality gap: 10.385281006125297, tolerance: 0.5821757173000007\n",
      "  model = cd_fast.enet_coordinate_descent_gram(\n",
      "/Users/alexandermichaeltjhin/opt/anaconda3/lib/python3.9/site-packages/sklearn/linear_model/_coordinate_descent.py:633: ConvergenceWarning: Objective did not converge. You might want to increase the number of iterations. Duality gap: 14.803601555169735, tolerance: 0.5821757173000007\n",
      "  model = cd_fast.enet_coordinate_descent_gram(\n",
      "/Users/alexandermichaeltjhin/opt/anaconda3/lib/python3.9/site-packages/sklearn/linear_model/_coordinate_descent.py:633: ConvergenceWarning: Objective did not converge. You might want to increase the number of iterations. Duality gap: 18.07431868228923, tolerance: 0.5821757173000007\n",
      "  model = cd_fast.enet_coordinate_descent_gram(\n",
      "/Users/alexandermichaeltjhin/opt/anaconda3/lib/python3.9/site-packages/sklearn/linear_model/_coordinate_descent.py:633: ConvergenceWarning: Objective did not converge. You might want to increase the number of iterations. Duality gap: 20.613703648983574, tolerance: 0.5821757173000007\n",
      "  model = cd_fast.enet_coordinate_descent_gram(\n",
      "/Users/alexandermichaeltjhin/opt/anaconda3/lib/python3.9/site-packages/sklearn/linear_model/_coordinate_descent.py:633: ConvergenceWarning: Objective did not converge. You might want to increase the number of iterations. Duality gap: 22.51010443226187, tolerance: 0.5821757173000007\n",
      "  model = cd_fast.enet_coordinate_descent_gram(\n",
      "/Users/alexandermichaeltjhin/opt/anaconda3/lib/python3.9/site-packages/sklearn/linear_model/_coordinate_descent.py:633: ConvergenceWarning: Objective did not converge. You might want to increase the number of iterations. Duality gap: 25.56439583820793, tolerance: 0.5821757173000007\n",
      "  model = cd_fast.enet_coordinate_descent_gram(\n",
      "/Users/alexandermichaeltjhin/opt/anaconda3/lib/python3.9/site-packages/sklearn/linear_model/_coordinate_descent.py:633: ConvergenceWarning: Objective did not converge. You might want to increase the number of iterations. Duality gap: 27.344871728505495, tolerance: 0.5821757173000007\n",
      "  model = cd_fast.enet_coordinate_descent_gram(\n",
      "/Users/alexandermichaeltjhin/opt/anaconda3/lib/python3.9/site-packages/sklearn/linear_model/_coordinate_descent.py:633: ConvergenceWarning: Objective did not converge. You might want to increase the number of iterations. Duality gap: 28.580183490083982, tolerance: 0.5821757173000007\n",
      "  model = cd_fast.enet_coordinate_descent_gram(\n",
      "/Users/alexandermichaeltjhin/opt/anaconda3/lib/python3.9/site-packages/sklearn/linear_model/_coordinate_descent.py:633: ConvergenceWarning: Objective did not converge. You might want to increase the number of iterations. Duality gap: 29.360941288471622, tolerance: 0.5821757173000007\n",
      "  model = cd_fast.enet_coordinate_descent_gram(\n",
      "/Users/alexandermichaeltjhin/opt/anaconda3/lib/python3.9/site-packages/sklearn/linear_model/_coordinate_descent.py:633: ConvergenceWarning: Objective did not converge. You might want to increase the number of iterations. Duality gap: 30.084243616391177, tolerance: 0.5821757173000007\n",
      "  model = cd_fast.enet_coordinate_descent_gram(\n",
      "/Users/alexandermichaeltjhin/opt/anaconda3/lib/python3.9/site-packages/sklearn/linear_model/_coordinate_descent.py:633: ConvergenceWarning: Objective did not converge. You might want to increase the number of iterations. Duality gap: 30.748132176025138, tolerance: 0.5821757173000007\n",
      "  model = cd_fast.enet_coordinate_descent_gram(\n",
      "/Users/alexandermichaeltjhin/opt/anaconda3/lib/python3.9/site-packages/sklearn/linear_model/_coordinate_descent.py:633: ConvergenceWarning: Objective did not converge. You might want to increase the number of iterations. Duality gap: 31.370047603286366, tolerance: 0.5821757173000007\n",
      "  model = cd_fast.enet_coordinate_descent_gram(\n"
     ]
    },
    {
     "data": {
      "image/png": "[encoded data removed]",
      "text/plain": [
       "<Figure size 720x432 with 1 Axes>"
      ]
     },
     "metadata": {
      "needs_background": "light"
     },
     "output_type": "display_data"
    }
   ],
   "source": [
    "import numpy as np\n",
    "import pandas as pd\n",
    "from sklearn.linear_model import lasso_path\n",
    "import matplotlib.pyplot as plt\n",
    "import seaborn as sns\n",
    "\n",
    "# Compute LASSO path\n",
    "features_short = [\"Ebit_Ta\", \"Eps\", \"Mkt_Cap_3M_Usd\", \"Mom_5M_Usd\",\n",
    "\"Pb\", \"Pe\", \"Total_Debt_Capital\", \"Vol1Y_Usd\"]\n",
    "alphas_lasso, coefs_lasso, _ = lasso_path(data_ml[features], data_ml[\"R1M_Usd\"], alphas=None)\n",
    "\n",
    "# Reshape into long format for plotting\n",
    "coefs_df = pd.DataFrame(coefs_lasso.T, columns=features)\n",
    "coefs_df['Lambda'] = alphas_lasso\n",
    "coefs_long = coefs_df.melt(id_vars='Lambda', var_name='Feature', value_name='beta')\n",
    "\n",
    "# Take first 120 rows (like R code)\n",
    "# coefs_long_subset = coefs_long.iloc[:120]\n",
    "\n",
    "# Plot\n",
    "plt.figure(figsize=(10, 6))\n",
    "sns.lineplot(data=coefs_long, x='Lambda', y='beta', hue='Feature')\n",
    "plt.ylabel(\"beta\")\n",
    "# plt.gca().set_aspect(0.25)\n",
    "plt.legend(fontsize=7)\n",
    "plt.show()\n"
   ]
  }
 ],
 "metadata": {
  "kernelspec": {
   "display_name": "base",
   "language": "python",
   "name": "python3"
  },
  "language_info": {
   "codemirror_mode": {
    "name": "ipython",
    "version": 3
   },
   "file_extension": ".py",
   "mimetype": "text/x-python",
   "name": "python",
   "nbconvert_exporter": "python",
   "pygments_lexer": "ipython3",
   "version": "3.9.12"
  }
 },
 "nbformat": 4,
 "nbformat_minor": 2
}
