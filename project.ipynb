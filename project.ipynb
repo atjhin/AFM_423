{
 "cells": [
  {
   "cell_type": "code",
   "execution_count": 1,
   "metadata": {},
   "outputs": [],
   "source": [
    "import pandas as pd\n",
    "import numpy as np\n",
    "from datetime import timedelta\n",
    "import matplotlib.pyplot as plt\n",
    "import warnings\n",
    "warnings.filterwarnings('ignore')"
   ]
  },
  {
   "cell_type": "markdown",
   "metadata": {},
   "source": [
    "# Questions\n",
    "- How do I fine tune the ML models? \n",
    "- - The first iteration in the backtesting or \n",
    "\n",
    "- How do I fine tune the bootstrapping approach?\n",
    "- - The paper uses expected blocksize of 0.5 and 2 years. We can use results in some combinations.\n",
    "\n",
    "- Any other recommendations or things to consider?\n",
    "Write down how they have been uniformized.\n",
    "Explain how the uniformization is done with the whole dataset which is cheating.\n",
    "Use feature_short as the features.\n"
   ]
  },
  {
   "cell_type": "markdown",
   "metadata": {},
   "source": [
    "# Data pre-processing"
   ]
  },
  {
   "cell_type": "markdown",
   "metadata": {},
   "source": [
    "- Features used is \"Ebit_Ta\", \"Eps\", \"Mkt_Cap_3M_Usd\", \"Mom_5M_Usd\", \"Pb\", \"Pe\", \"Total_Debt_Capital\", \"Vol1Y_Usd\".\n",
    "- Time range beginning of 2005 - end of 2019\n",
    "- Only kept stocks where we have full information of them (non missing value for each time period).\n"
   ]
  },
  {
   "cell_type": "code",
   "execution_count": 2,
   "metadata": {},
   "outputs": [
    {
     "data": {
      "text/plain": [
       "(283380, 99)"
      ]
     },
     "execution_count": 2,
     "metadata": {},
     "output_type": "execute_result"
    }
   ],
   "source": [
    "import pyreadr\n",
    "data_ml = pyreadr.read_r(\"data/data_ml.Rdata\")\n",
    "data_ml = data_ml['data_ml']\n",
    "data_ml.shape"
   ]
  },
  {
   "cell_type": "code",
   "execution_count": 3,
   "metadata": {},
   "outputs": [],
   "source": [
    "# Data pre-processing\n",
    "features = [\"Ebit_Ta\", \"Eps\", \"Mkt_Cap_3M_Usd\", \"Mom_5M_Usd\", \n",
    "            \"Pb\", \"Pe\", \"Total_Debt_Capital\", \"Vol1Y_Usd\"]\n",
    "max_n_stocks = data_ml[\"stock_id\"].value_counts().max()\n",
    "data_ml = data_ml.loc[data_ml.groupby(\"stock_id\").date.transform(\"count\") == max_n_stocks]\n",
    "data_ml = data_ml.loc[data_ml['date'] >= pd.Timestamp(\"2005-01-01\")]\n",
    "data_ml['date'] = pd.to_datetime(data_ml['date'])\n",
    "\n",
    "# Starting point for backtest\n",
    "sep_oos = pd.to_datetime(\"2010-01-01\")\n",
    "t_oos = data_ml.loc[data_ml['date'] > sep_oos, 'date'].unique()\n",
    "t_oos = pd.to_datetime(t_oos).sort_values()"
   ]
  },
  {
   "cell_type": "markdown",
   "metadata": {},
   "source": [
    "# Model selection"
   ]
  },
  {
   "cell_type": "markdown",
   "metadata": {},
   "source": [
    "- We only tune the model using our first iteration of backtesting, hence there is no re-tuning of model after.\n",
    "- To avoid forward looking bias, we will be tuning using our training data from the first iteration in our backtesting. Instead of doing cross-validation, we will be segmenting a portion of this training data based on time. i.e. The training data here is from beg 2005 - end of 2007, validation data here is beg 2008 - first oot (first month of 2009).\n"
   ]
  },
  {
   "cell_type": "markdown",
   "metadata": {},
   "source": [
    "In this section, we will be performing hyperparameter tuning for our ML models to be used in our backtesting. To avoid forward looking bias, we will be tuning using our training data from the first iteration in our backtesting. Instead of doing cross-validation, we will be segmenting a portion of this training data based on time."
   ]
  },
  {
   "cell_type": "code",
   "execution_count": 4,
   "metadata": {},
   "outputs": [
    {
     "name": "stdout",
     "output_type": "stream",
     "text": [
      "shape of training set: (17856, 8)\n"
     ]
    }
   ],
   "source": [
    "from sklearn.model_selection import GridSearchCV, PredefinedSplit\n",
    "import xgboost as xgb\n",
    "from sklearn.linear_model import ElasticNet\n",
    "\n",
    "m_offset = 12                                          # Offset in months for buffer period\n",
    "train_size = 5                                         # Size of training set in years\n",
    "max_train_date = sep_oos\n",
    "\n",
    "# Data prep\n",
    "tune_dataset = data_ml[(data_ml['date'] < max_train_date - pd.Timedelta(days=m_offset * 30)) &  \\\n",
    "            (data_ml['date'] > max_train_date - pd.Timedelta(days=m_offset * 30 + 365 * train_size))]\n",
    "tune_dataset = tune_dataset.sort_values('date').reset_index(drop=True)\n",
    "x = tune_dataset[features]\n",
    "y = tune_dataset[\"R12M_Usd\"] / np.exp(tune_dataset[\"Vol1Y_Usd\"])\n",
    "print(f\"shape of training set: {x.shape}\")\n",
    "\n",
    "# Pre-determine split by latest year in tune dataset, 2008\n",
    "split_index = tune_dataset[tune_dataset['date'].dt.year == 2008].index.min()\n",
    "test_fold = [-1] * split_index + [0] * (len(x) - split_index)\n",
    "ps = PredefinedSplit(test_fold)"
   ]
  },
  {
   "cell_type": "markdown",
   "metadata": {},
   "source": [
    "## Regression"
   ]
  },
  {
   "cell_type": "code",
   "execution_count": 5,
   "metadata": {},
   "outputs": [
    {
     "data": {
      "text/plain": [
       "GridSearchCV(cv=PredefinedSplit(test_fold=array([-1, -1, ...,  0,  0])),\n",
       "             estimator=ElasticNet(random_state=2025),\n",
       "             param_grid={'alpha': [0.001, 0.005, 0.01],\n",
       "                         'l1_ratio': [0, 0.1, 0.3, 0.5, 0.7, 0.9, 1]},\n",
       "             scoring='neg_root_mean_squared_error')"
      ]
     },
     "execution_count": 5,
     "metadata": {},
     "output_type": "execute_result"
    }
   ],
   "source": [
    "en_params = {\"alpha\": [0.001, 0.005, 0.01],\n",
    "             \"l1_ratio\": [0, 0.1, 0.3, 0.5, 0.7, 0.9, 1]}\n",
    "en_cv = GridSearchCV(ElasticNet(random_state=2025), \n",
    "                     en_params, \n",
    "                     scoring='neg_root_mean_squared_error', \n",
    "                     cv=ps)\n",
    "en_cv.fit(x, y)"
   ]
  },
  {
   "cell_type": "code",
   "execution_count": 6,
   "metadata": {},
   "outputs": [
    {
     "data": {
      "text/html": [
       "<div>\n",
       "<style scoped>\n",
       "    .dataframe tbody tr th:only-of-type {\n",
       "        vertical-align: middle;\n",
       "    }\n",
       "\n",
       "    .dataframe tbody tr th {\n",
       "        vertical-align: top;\n",
       "    }\n",
       "\n",
       "    .dataframe thead th {\n",
       "        text-align: right;\n",
       "    }\n",
       "</style>\n",
       "<table border=\"1\" class=\"dataframe\">\n",
       "  <thead>\n",
       "    <tr style=\"text-align: right;\">\n",
       "      <th></th>\n",
       "      <th>alpha</th>\n",
       "      <th>l1_ratio</th>\n",
       "      <th>mean_test_score</th>\n",
       "      <th>rank_test_score</th>\n",
       "    </tr>\n",
       "  </thead>\n",
       "  <tbody>\n",
       "    <tr>\n",
       "      <th>0</th>\n",
       "      <td>0.001</td>\n",
       "      <td>0.0</td>\n",
       "      <td>-0.405557</td>\n",
       "      <td>1</td>\n",
       "    </tr>\n",
       "    <tr>\n",
       "      <th>1</th>\n",
       "      <td>0.001</td>\n",
       "      <td>0.1</td>\n",
       "      <td>-0.405655</td>\n",
       "      <td>2</td>\n",
       "    </tr>\n",
       "    <tr>\n",
       "      <th>7</th>\n",
       "      <td>0.005</td>\n",
       "      <td>0.0</td>\n",
       "      <td>-0.405686</td>\n",
       "      <td>3</td>\n",
       "    </tr>\n",
       "    <tr>\n",
       "      <th>14</th>\n",
       "      <td>0.010</td>\n",
       "      <td>0.0</td>\n",
       "      <td>-0.405837</td>\n",
       "      <td>4</td>\n",
       "    </tr>\n",
       "    <tr>\n",
       "      <th>2</th>\n",
       "      <td>0.001</td>\n",
       "      <td>0.3</td>\n",
       "      <td>-0.405852</td>\n",
       "      <td>5</td>\n",
       "    </tr>\n",
       "    <tr>\n",
       "      <th>3</th>\n",
       "      <td>0.001</td>\n",
       "      <td>0.5</td>\n",
       "      <td>-0.406042</td>\n",
       "      <td>6</td>\n",
       "    </tr>\n",
       "    <tr>\n",
       "      <th>8</th>\n",
       "      <td>0.005</td>\n",
       "      <td>0.1</td>\n",
       "      <td>-0.406181</td>\n",
       "      <td>7</td>\n",
       "    </tr>\n",
       "    <tr>\n",
       "      <th>4</th>\n",
       "      <td>0.001</td>\n",
       "      <td>0.7</td>\n",
       "      <td>-0.406239</td>\n",
       "      <td>8</td>\n",
       "    </tr>\n",
       "    <tr>\n",
       "      <th>5</th>\n",
       "      <td>0.001</td>\n",
       "      <td>0.9</td>\n",
       "      <td>-0.406445</td>\n",
       "      <td>9</td>\n",
       "    </tr>\n",
       "    <tr>\n",
       "      <th>6</th>\n",
       "      <td>0.001</td>\n",
       "      <td>1.0</td>\n",
       "      <td>-0.406552</td>\n",
       "      <td>10</td>\n",
       "    </tr>\n",
       "    <tr>\n",
       "      <th>15</th>\n",
       "      <td>0.010</td>\n",
       "      <td>0.1</td>\n",
       "      <td>-0.406827</td>\n",
       "      <td>11</td>\n",
       "    </tr>\n",
       "    <tr>\n",
       "      <th>9</th>\n",
       "      <td>0.005</td>\n",
       "      <td>0.3</td>\n",
       "      <td>-0.407178</td>\n",
       "      <td>12</td>\n",
       "    </tr>\n",
       "    <tr>\n",
       "      <th>10</th>\n",
       "      <td>0.005</td>\n",
       "      <td>0.5</td>\n",
       "      <td>-0.408197</td>\n",
       "      <td>13</td>\n",
       "    </tr>\n",
       "    <tr>\n",
       "      <th>16</th>\n",
       "      <td>0.010</td>\n",
       "      <td>0.3</td>\n",
       "      <td>-0.408770</td>\n",
       "      <td>14</td>\n",
       "    </tr>\n",
       "    <tr>\n",
       "      <th>11</th>\n",
       "      <td>0.005</td>\n",
       "      <td>0.7</td>\n",
       "      <td>-0.408988</td>\n",
       "      <td>15</td>\n",
       "    </tr>\n",
       "    <tr>\n",
       "      <th>12</th>\n",
       "      <td>0.005</td>\n",
       "      <td>0.9</td>\n",
       "      <td>-0.409445</td>\n",
       "      <td>16</td>\n",
       "    </tr>\n",
       "    <tr>\n",
       "      <th>13</th>\n",
       "      <td>0.005</td>\n",
       "      <td>1.0</td>\n",
       "      <td>-0.409705</td>\n",
       "      <td>17</td>\n",
       "    </tr>\n",
       "    <tr>\n",
       "      <th>17</th>\n",
       "      <td>0.010</td>\n",
       "      <td>0.5</td>\n",
       "      <td>-0.409740</td>\n",
       "      <td>18</td>\n",
       "    </tr>\n",
       "    <tr>\n",
       "      <th>19</th>\n",
       "      <td>0.010</td>\n",
       "      <td>0.9</td>\n",
       "      <td>-0.410030</td>\n",
       "      <td>19</td>\n",
       "    </tr>\n",
       "    <tr>\n",
       "      <th>18</th>\n",
       "      <td>0.010</td>\n",
       "      <td>0.7</td>\n",
       "      <td>-0.410030</td>\n",
       "      <td>19</td>\n",
       "    </tr>\n",
       "    <tr>\n",
       "      <th>20</th>\n",
       "      <td>0.010</td>\n",
       "      <td>1.0</td>\n",
       "      <td>-0.410030</td>\n",
       "      <td>19</td>\n",
       "    </tr>\n",
       "  </tbody>\n",
       "</table>\n",
       "</div>"
      ],
      "text/plain": [
       "    alpha  l1_ratio  mean_test_score  rank_test_score\n",
       "0   0.001       0.0        -0.405557                1\n",
       "1   0.001       0.1        -0.405655                2\n",
       "7   0.005       0.0        -0.405686                3\n",
       "14  0.010       0.0        -0.405837                4\n",
       "2   0.001       0.3        -0.405852                5\n",
       "3   0.001       0.5        -0.406042                6\n",
       "8   0.005       0.1        -0.406181                7\n",
       "4   0.001       0.7        -0.406239                8\n",
       "5   0.001       0.9        -0.406445                9\n",
       "6   0.001       1.0        -0.406552               10\n",
       "15  0.010       0.1        -0.406827               11\n",
       "9   0.005       0.3        -0.407178               12\n",
       "10  0.005       0.5        -0.408197               13\n",
       "16  0.010       0.3        -0.408770               14\n",
       "11  0.005       0.7        -0.408988               15\n",
       "12  0.005       0.9        -0.409445               16\n",
       "13  0.005       1.0        -0.409705               17\n",
       "17  0.010       0.5        -0.409740               18\n",
       "19  0.010       0.9        -0.410030               19\n",
       "18  0.010       0.7        -0.410030               19\n",
       "20  0.010       1.0        -0.410030               19"
      ]
     },
     "execution_count": 6,
     "metadata": {},
     "output_type": "execute_result"
    }
   ],
   "source": [
    "cv_df = pd.DataFrame(en_cv.cv_results_)[['params', 'mean_test_score', 'rank_test_score']]\n",
    "cv_df = pd.concat([cv_df['params'].apply(pd.Series), \n",
    "                   cv_df.drop(['params'], axis=1)], axis=1)\n",
    "cv_df.sort_values('rank_test_score')"
   ]
  },
  {
   "cell_type": "markdown",
   "metadata": {},
   "source": [
    "The above table shows that the best validation score was achieved when alpha=0.001 and l2_ratio=0. However, I will be using the parameters alpha=0.01 and l2_ratio=0 at rank 4, as this applies a heavier regularization while barely reducing the validation rmse. This provide a more stable and generalizable solution for unseen data."
   ]
  },
  {
   "cell_type": "markdown",
   "metadata": {},
   "source": [
    "## XGboost"
   ]
  },
  {
   "cell_type": "code",
   "execution_count": 7,
   "metadata": {},
   "outputs": [
    {
     "data": {
      "text/plain": [
       "GridSearchCV(cv=PredefinedSplit(test_fold=array([-1, -1, ...,  0,  0])),\n",
       "             estimator=XGBRegressor(base_score=None, booster=None,\n",
       "                                    callbacks=None, colsample_bylevel=None,\n",
       "                                    colsample_bynode=None,\n",
       "                                    colsample_bytree=None, device=None,\n",
       "                                    early_stopping_rounds=None,\n",
       "                                    enable_categorical=False,\n",
       "                                    eval_metric='rmse', feature_types=None,\n",
       "                                    gamma=None, grow_policy=None,\n",
       "                                    importance_type=None...\n",
       "                                    max_cat_threshold=None,\n",
       "                                    max_cat_to_onehot=None, max_delta_step=None,\n",
       "                                    max_depth=None, max_leaves=None,\n",
       "                                    min_child_weight=200, missing=nan,\n",
       "                                    monotone_constraints=None,\n",
       "                                    multi_strategy=None, n_estimators=None,\n",
       "                                    n_jobs=None, num_parallel_tree=None,\n",
       "                                    random_state=2025, ...),\n",
       "             param_grid={'eta': array([0.001, 0.01 , 0.05 , 0.1  ]),\n",
       "                         'max_depth': array([ 5, 10, 15, 20])},\n",
       "             scoring='neg_root_mean_squared_error')"
      ]
     },
     "execution_count": 7,
     "metadata": {},
     "output_type": "execute_result"
    }
   ],
   "source": [
    "test_params = {\n",
    " 'max_depth':np.arange(5, 25, 5),\n",
    " 'eta': np.array([0.001, 0.01, 0.05, 0.1])\n",
    "}\n",
    "xgb_cv = GridSearchCV(\n",
    "    estimator = xgb.XGBRegressor(objective=\"reg:squarederror\", \n",
    "                                  eval_metric='rmse',\n",
    "                                  subsample=0.5, \n",
    "                                  min_child_weight=200,\n",
    "                                  random_state=2025), \n",
    "    param_grid = test_params,\n",
    "    cv=ps,\n",
    "    scoring=\"neg_root_mean_squared_error\")\n",
    "xgb_cv.fit(x,y)"
   ]
  },
  {
   "cell_type": "code",
   "execution_count": 8,
   "metadata": {},
   "outputs": [
    {
     "data": {
      "text/html": [
       "<div>\n",
       "<style scoped>\n",
       "    .dataframe tbody tr th:only-of-type {\n",
       "        vertical-align: middle;\n",
       "    }\n",
       "\n",
       "    .dataframe tbody tr th {\n",
       "        vertical-align: top;\n",
       "    }\n",
       "\n",
       "    .dataframe thead th {\n",
       "        text-align: right;\n",
       "    }\n",
       "</style>\n",
       "<table border=\"1\" class=\"dataframe\">\n",
       "  <thead>\n",
       "    <tr style=\"text-align: right;\">\n",
       "      <th></th>\n",
       "      <th>eta</th>\n",
       "      <th>max_depth</th>\n",
       "      <th>mean_test_score</th>\n",
       "      <th>rank_test_score</th>\n",
       "    </tr>\n",
       "  </thead>\n",
       "  <tbody>\n",
       "    <tr>\n",
       "      <th>11</th>\n",
       "      <td>0.050</td>\n",
       "      <td>20.0</td>\n",
       "      <td>-0.406089</td>\n",
       "      <td>1</td>\n",
       "    </tr>\n",
       "    <tr>\n",
       "      <th>9</th>\n",
       "      <td>0.050</td>\n",
       "      <td>10.0</td>\n",
       "      <td>-0.406150</td>\n",
       "      <td>2</td>\n",
       "    </tr>\n",
       "    <tr>\n",
       "      <th>8</th>\n",
       "      <td>0.050</td>\n",
       "      <td>5.0</td>\n",
       "      <td>-0.406315</td>\n",
       "      <td>3</td>\n",
       "    </tr>\n",
       "    <tr>\n",
       "      <th>10</th>\n",
       "      <td>0.050</td>\n",
       "      <td>15.0</td>\n",
       "      <td>-0.406428</td>\n",
       "      <td>4</td>\n",
       "    </tr>\n",
       "    <tr>\n",
       "      <th>4</th>\n",
       "      <td>0.010</td>\n",
       "      <td>5.0</td>\n",
       "      <td>-0.406608</td>\n",
       "      <td>5</td>\n",
       "    </tr>\n",
       "    <tr>\n",
       "      <th>6</th>\n",
       "      <td>0.010</td>\n",
       "      <td>15.0</td>\n",
       "      <td>-0.406662</td>\n",
       "      <td>6</td>\n",
       "    </tr>\n",
       "    <tr>\n",
       "      <th>7</th>\n",
       "      <td>0.010</td>\n",
       "      <td>20.0</td>\n",
       "      <td>-0.406662</td>\n",
       "      <td>6</td>\n",
       "    </tr>\n",
       "    <tr>\n",
       "      <th>5</th>\n",
       "      <td>0.010</td>\n",
       "      <td>10.0</td>\n",
       "      <td>-0.406691</td>\n",
       "      <td>8</td>\n",
       "    </tr>\n",
       "    <tr>\n",
       "      <th>14</th>\n",
       "      <td>0.100</td>\n",
       "      <td>15.0</td>\n",
       "      <td>-0.407167</td>\n",
       "      <td>9</td>\n",
       "    </tr>\n",
       "    <tr>\n",
       "      <th>12</th>\n",
       "      <td>0.100</td>\n",
       "      <td>5.0</td>\n",
       "      <td>-0.407224</td>\n",
       "      <td>10</td>\n",
       "    </tr>\n",
       "    <tr>\n",
       "      <th>15</th>\n",
       "      <td>0.100</td>\n",
       "      <td>20.0</td>\n",
       "      <td>-0.407243</td>\n",
       "      <td>11</td>\n",
       "    </tr>\n",
       "    <tr>\n",
       "      <th>13</th>\n",
       "      <td>0.100</td>\n",
       "      <td>10.0</td>\n",
       "      <td>-0.407973</td>\n",
       "      <td>12</td>\n",
       "    </tr>\n",
       "    <tr>\n",
       "      <th>1</th>\n",
       "      <td>0.001</td>\n",
       "      <td>10.0</td>\n",
       "      <td>-0.409412</td>\n",
       "      <td>13</td>\n",
       "    </tr>\n",
       "    <tr>\n",
       "      <th>2</th>\n",
       "      <td>0.001</td>\n",
       "      <td>15.0</td>\n",
       "      <td>-0.409412</td>\n",
       "      <td>14</td>\n",
       "    </tr>\n",
       "    <tr>\n",
       "      <th>3</th>\n",
       "      <td>0.001</td>\n",
       "      <td>20.0</td>\n",
       "      <td>-0.409412</td>\n",
       "      <td>14</td>\n",
       "    </tr>\n",
       "    <tr>\n",
       "      <th>0</th>\n",
       "      <td>0.001</td>\n",
       "      <td>5.0</td>\n",
       "      <td>-0.409423</td>\n",
       "      <td>16</td>\n",
       "    </tr>\n",
       "  </tbody>\n",
       "</table>\n",
       "</div>"
      ],
      "text/plain": [
       "      eta  max_depth  mean_test_score  rank_test_score\n",
       "11  0.050       20.0        -0.406089                1\n",
       "9   0.050       10.0        -0.406150                2\n",
       "8   0.050        5.0        -0.406315                3\n",
       "10  0.050       15.0        -0.406428                4\n",
       "4   0.010        5.0        -0.406608                5\n",
       "6   0.010       15.0        -0.406662                6\n",
       "7   0.010       20.0        -0.406662                6\n",
       "5   0.010       10.0        -0.406691                8\n",
       "14  0.100       15.0        -0.407167                9\n",
       "12  0.100        5.0        -0.407224               10\n",
       "15  0.100       20.0        -0.407243               11\n",
       "13  0.100       10.0        -0.407973               12\n",
       "1   0.001       10.0        -0.409412               13\n",
       "2   0.001       15.0        -0.409412               14\n",
       "3   0.001       20.0        -0.409412               14\n",
       "0   0.001        5.0        -0.409423               16"
      ]
     },
     "execution_count": 8,
     "metadata": {},
     "output_type": "execute_result"
    }
   ],
   "source": [
    "cv_df = pd.DataFrame(xgb_cv.cv_results_)[['params', 'mean_test_score', 'rank_test_score']]\n",
    "cv_df = pd.concat([cv_df['params'].apply(pd.Series), \n",
    "                   cv_df.drop(['params'], axis=1)], axis=1)\n",
    "cv_df.sort_values('rank_test_score')"
   ]
  },
  {
   "cell_type": "markdown",
   "metadata": {},
   "source": [
    "Based on our results, we select the parameters eta=0.05 and max_depth=10 as the parameters looks reasonable, and the test scores do not differ a lot compared to the first choice."
   ]
  },
  {
   "cell_type": "markdown",
   "metadata": {},
   "source": [
    "# Portfolio backtesting"
   ]
  },
  {
   "cell_type": "markdown",
   "metadata": {},
   "source": [
    "- Our benchmark will be an equally weighted portfolio including all stocks.\n",
    "- We will be running our model against the risk-adjusted returns\n",
    "- For each ML model, we will be train our model using our selected parameters from the previous section based on our risk-adjusted returns to speed up training. After using our models to predict the risk-adjusted returns, we will assign equal weights to the top 50 percentile of stocks with the highest predicted returns."
   ]
  },
  {
   "cell_type": "markdown",
   "metadata": {},
   "source": [
    "In this section, we perform the backtesting. To avoid forward looking bias from our features, we included a buffer period of one year between our train and test set. We also used a maximum training period of 5 years and iteratively shift the training dataset for each iteration.\n",
    "\n",
    "Some important notes:\n",
    "- Our benchmark will be an equally weighted portfolio including all stocks.\n",
    "- We will be running our model against the risk-adjusted returns\n",
    "- For each ML model, we will be train our model using our selected parameters from the previous section based on our risk-adjusted returns to speed up training. After using our models to predict the risk-adjusted returns, we will assign equal weights to the top 50 percentile of stocks with the highest predicted returns."
   ]
  },
  {
   "cell_type": "code",
   "execution_count": 4,
   "metadata": {},
   "outputs": [
    {
     "name": "stdout",
     "output_type": "stream",
     "text": [
      "2010-01-31 00:00:00\n",
      "2011-01-31 00:00:00\n",
      "2012-01-31 00:00:00\n",
      "2013-01-31 00:00:00\n",
      "2014-01-31 00:00:00\n",
      "2015-01-31 00:00:00\n",
      "2016-01-31 00:00:00\n",
      "2017-01-31 00:00:00\n",
      "2018-01-31 00:00:00\n",
      "2019-01-31 00:00:00\n"
     ]
    }
   ],
   "source": [
    "from utils import backtest\n",
    "\n",
    "lr_params = {\n",
    "    \"l1_ratio\":0, \n",
    "    \"alpha\":0.01, \n",
    "    \"random_state\":2025\n",
    "}\n",
    "xgb_params = {\n",
    "    \"eta\": 0.05,        \n",
    "    \"max_depth\": 10,               \n",
    "    \"objective\": \"reg:squarederror\", \n",
    "    \"subsample\":0.5, \n",
    "    \"eval_metric\":\"rmse\",\n",
    "    \"random_state\":2025\n",
    "}\n",
    "portf_weights, portf_returns = backtest(data_ml, features, t_oos, lr_params=lr_params, xgb_params=xgb_params)"
   ]
  },
  {
   "cell_type": "markdown",
   "metadata": {},
   "source": [
    "# Metrics calcuations"
   ]
  },
  {
   "cell_type": "markdown",
   "metadata": {},
   "source": [
    "In this section, we evaluate our models performance by considering returns of the portfolio, and turnover cost."
   ]
  },
  {
   "cell_type": "code",
   "execution_count": 5,
   "metadata": {},
   "outputs": [
    {
     "data": {
      "image/png": "[encoded data removed]",
      "text/plain": [
       "<Figure size 576x360 with 1 Axes>"
      ]
     },
     "metadata": {
      "needs_background": "light"
     },
     "output_type": "display_data"
    },
    {
     "data": {
      "text/html": [
       "<div>\n",
       "<style scoped>\n",
       "    .dataframe tbody tr th:only-of-type {\n",
       "        vertical-align: middle;\n",
       "    }\n",
       "\n",
       "    .dataframe tbody tr th {\n",
       "        vertical-align: top;\n",
       "    }\n",
       "\n",
       "    .dataframe thead th {\n",
       "        text-align: right;\n",
       "    }\n",
       "</style>\n",
       "<table border=\"1\" class=\"dataframe\">\n",
       "  <thead>\n",
       "    <tr style=\"text-align: right;\">\n",
       "      <th></th>\n",
       "      <th>strat</th>\n",
       "      <th>turnover</th>\n",
       "      <th>mean</th>\n",
       "      <th>std</th>\n",
       "      <th>sharpe</th>\n",
       "      <th>bt_mean</th>\n",
       "      <th>bt_std</th>\n",
       "    </tr>\n",
       "  </thead>\n",
       "  <tbody>\n",
       "    <tr>\n",
       "      <th>0</th>\n",
       "      <td>EW</td>\n",
       "      <td>0.0555</td>\n",
       "      <td>0.0124</td>\n",
       "      <td>0.0482</td>\n",
       "      <td>0.2571</td>\n",
       "      <td>4054.9779</td>\n",
       "      <td>1331.0203</td>\n",
       "    </tr>\n",
       "    <tr>\n",
       "      <th>1</th>\n",
       "      <td>LR</td>\n",
       "      <td>0.5236</td>\n",
       "      <td>0.0149</td>\n",
       "      <td>0.0531</td>\n",
       "      <td>0.2814</td>\n",
       "      <td>5405.0825</td>\n",
       "      <td>1944.7093</td>\n",
       "    </tr>\n",
       "    <tr>\n",
       "      <th>2</th>\n",
       "      <td>XGB</td>\n",
       "      <td>0.6367</td>\n",
       "      <td>0.0143</td>\n",
       "      <td>0.0500</td>\n",
       "      <td>0.2850</td>\n",
       "      <td>5023.2362</td>\n",
       "      <td>1734.5110</td>\n",
       "    </tr>\n",
       "  </tbody>\n",
       "</table>\n",
       "</div>"
      ],
      "text/plain": [
       "  strat  turnover    mean     std  sharpe    bt_mean     bt_std\n",
       "0    EW    0.0555  0.0124  0.0482  0.2571  4054.9779  1331.0203\n",
       "1    LR    0.5236  0.0149  0.0531  0.2814  5405.0825  1944.7093\n",
       "2   XGB    0.6367  0.0143  0.0500  0.2850  5023.2362  1734.5110"
      ]
     },
     "execution_count": 5,
     "metadata": {},
     "output_type": "execute_result"
    }
   ],
   "source": [
    "from utils import perf_met_multi\n",
    "\n",
    "blocksize_year = 1\n",
    "p = 1/(blocksize_year * 12)\n",
    "timeframe = 10\n",
    "metrics_df = perf_met_multi(portf_returns=portf_returns, portf_weights=portf_weights, \n",
    "                            asset_returns=data_ml, t_oos=t_oos, strat_name=['EW', \"LR\", \"XGB\"], \n",
    "                            t=timeframe, p=p, xlim=8000, seed=2025)\n",
    "metrics_df"
   ]
  },
  {
   "cell_type": "code",
   "execution_count": 6,
   "metadata": {},
   "outputs": [
    {
     "data": {
      "image/png": "[encoded data removed]",
      "text/plain": [
       "<Figure size 576x360 with 1 Axes>"
      ]
     },
     "metadata": {
      "needs_background": "light"
     },
     "output_type": "display_data"
    },
    {
     "data": {
      "text/html": [
       "<div>\n",
       "<style scoped>\n",
       "    .dataframe tbody tr th:only-of-type {\n",
       "        vertical-align: middle;\n",
       "    }\n",
       "\n",
       "    .dataframe tbody tr th {\n",
       "        vertical-align: top;\n",
       "    }\n",
       "\n",
       "    .dataframe thead th {\n",
       "        text-align: right;\n",
       "    }\n",
       "</style>\n",
       "<table border=\"1\" class=\"dataframe\">\n",
       "  <thead>\n",
       "    <tr style=\"text-align: right;\">\n",
       "      <th></th>\n",
       "      <th>strat</th>\n",
       "      <th>turnover</th>\n",
       "      <th>mean</th>\n",
       "      <th>std</th>\n",
       "      <th>sharpe</th>\n",
       "      <th>bt_mean</th>\n",
       "      <th>bt_std</th>\n",
       "    </tr>\n",
       "  </thead>\n",
       "  <tbody>\n",
       "    <tr>\n",
       "      <th>0</th>\n",
       "      <td>EW</td>\n",
       "      <td>0.0555</td>\n",
       "      <td>0.0124</td>\n",
       "      <td>0.0482</td>\n",
       "      <td>0.2571</td>\n",
       "      <td>4154.4771</td>\n",
       "      <td>1596.2080</td>\n",
       "    </tr>\n",
       "    <tr>\n",
       "      <th>1</th>\n",
       "      <td>LR</td>\n",
       "      <td>0.5236</td>\n",
       "      <td>0.0149</td>\n",
       "      <td>0.0531</td>\n",
       "      <td>0.2814</td>\n",
       "      <td>5532.6549</td>\n",
       "      <td>2282.9045</td>\n",
       "    </tr>\n",
       "    <tr>\n",
       "      <th>2</th>\n",
       "      <td>XGB</td>\n",
       "      <td>0.6367</td>\n",
       "      <td>0.0143</td>\n",
       "      <td>0.0500</td>\n",
       "      <td>0.2850</td>\n",
       "      <td>5155.6057</td>\n",
       "      <td>2124.2577</td>\n",
       "    </tr>\n",
       "  </tbody>\n",
       "</table>\n",
       "</div>"
      ],
      "text/plain": [
       "  strat  turnover    mean     std  sharpe    bt_mean     bt_std\n",
       "0    EW    0.0555  0.0124  0.0482  0.2571  4154.4771  1596.2080\n",
       "1    LR    0.5236  0.0149  0.0531  0.2814  5532.6549  2282.9045\n",
       "2   XGB    0.6367  0.0143  0.0500  0.2850  5155.6057  2124.2577"
      ]
     },
     "execution_count": 6,
     "metadata": {},
     "output_type": "execute_result"
    }
   ],
   "source": [
    "blocksize_year = 0.5\n",
    "p = 1/(blocksize_year * 12)\n",
    "timeframe = 10\n",
    "metrics_df = perf_met_multi(portf_returns=portf_returns, portf_weights=portf_weights, \n",
    "                            asset_returns=data_ml, t_oos=t_oos, strat_name=['EW', \"LR\", \"XGB\"], \n",
    "                            t=timeframe, p=p, xlim=8000, seed=2025)\n",
    "metrics_df"
   ]
  },
  {
   "cell_type": "code",
   "execution_count": 7,
   "metadata": {},
   "outputs": [
    {
     "data": {
      "image/png": "[encoded data removed]",
      "text/plain": [
       "<Figure size 576x360 with 1 Axes>"
      ]
     },
     "metadata": {
      "needs_background": "light"
     },
     "output_type": "display_data"
    },
    {
     "data": {
      "text/html": [
       "<div>\n",
       "<style scoped>\n",
       "    .dataframe tbody tr th:only-of-type {\n",
       "        vertical-align: middle;\n",
       "    }\n",
       "\n",
       "    .dataframe tbody tr th {\n",
       "        vertical-align: top;\n",
       "    }\n",
       "\n",
       "    .dataframe thead th {\n",
       "        text-align: right;\n",
       "    }\n",
       "</style>\n",
       "<table border=\"1\" class=\"dataframe\">\n",
       "  <thead>\n",
       "    <tr style=\"text-align: right;\">\n",
       "      <th></th>\n",
       "      <th>strat</th>\n",
       "      <th>turnover</th>\n",
       "      <th>mean</th>\n",
       "      <th>std</th>\n",
       "      <th>sharpe</th>\n",
       "      <th>bt_mean</th>\n",
       "      <th>bt_std</th>\n",
       "    </tr>\n",
       "  </thead>\n",
       "  <tbody>\n",
       "    <tr>\n",
       "      <th>0</th>\n",
       "      <td>EW</td>\n",
       "      <td>0.0555</td>\n",
       "      <td>0.0124</td>\n",
       "      <td>0.0482</td>\n",
       "      <td>0.2571</td>\n",
       "      <td>2027.7634</td>\n",
       "      <td>571.5235</td>\n",
       "    </tr>\n",
       "    <tr>\n",
       "      <th>1</th>\n",
       "      <td>LR</td>\n",
       "      <td>0.5236</td>\n",
       "      <td>0.0149</td>\n",
       "      <td>0.0531</td>\n",
       "      <td>0.2814</td>\n",
       "      <td>2342.8712</td>\n",
       "      <td>718.5359</td>\n",
       "    </tr>\n",
       "    <tr>\n",
       "      <th>2</th>\n",
       "      <td>XGB</td>\n",
       "      <td>0.6367</td>\n",
       "      <td>0.0143</td>\n",
       "      <td>0.0500</td>\n",
       "      <td>0.2850</td>\n",
       "      <td>2251.2307</td>\n",
       "      <td>648.4461</td>\n",
       "    </tr>\n",
       "  </tbody>\n",
       "</table>\n",
       "</div>"
      ],
      "text/plain": [
       "  strat  turnover    mean     std  sharpe    bt_mean    bt_std\n",
       "0    EW    0.0555  0.0124  0.0482  0.2571  2027.7634  571.5235\n",
       "1    LR    0.5236  0.0149  0.0531  0.2814  2342.8712  718.5359\n",
       "2   XGB    0.6367  0.0143  0.0500  0.2850  2251.2307  648.4461"
      ]
     },
     "execution_count": 7,
     "metadata": {},
     "output_type": "execute_result"
    }
   ],
   "source": [
    "blocksize_year = 0.5\n",
    "p = 1/(blocksize_year * 12)\n",
    "timeframe = 5\n",
    "metrics_df = perf_met_multi(portf_returns=portf_returns, portf_weights=portf_weights, \n",
    "                            asset_returns=data_ml, t_oos=t_oos, strat_name=['EW', \"LR\", \"XGB\"], \n",
    "                            t=timeframe, p=p, xlim=3000, seed=2025)\n",
    "metrics_df"
   ]
  }
 ],
 "metadata": {
  "kernelspec": {
   "display_name": "Python 3",
   "language": "python",
   "name": "python3"
  },
  "language_info": {
   "codemirror_mode": {
    "name": "ipython",
    "version": 3
   },
   "file_extension": ".py",
   "mimetype": "text/x-python",
   "name": "python",
   "nbconvert_exporter": "python",
   "pygments_lexer": "ipython3",
   "version": "3.9.12"
  }
 },
 "nbformat": 4,
 "nbformat_minor": 2
}
